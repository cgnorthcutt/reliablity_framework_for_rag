{
 "cells": [
  {
   "cell_type": "code",
   "execution_count": 1,
   "id": "efe471e1-d96d-41f7-be9f-5bc32518a44b",
   "metadata": {},
   "outputs": [],
   "source": [
    "from cleanlab_studio import Studio"
   ]
  },
  {
   "cell_type": "code",
   "execution_count": 2,
   "id": "3be988b1-51df-4b7f-ac17-34c31db282cd",
   "metadata": {},
   "outputs": [],
   "source": [
    "with open('api.txt') as file: \n",
    "    key = file.read()\n",
    "studio = Studio(key)  # Cleanlab Studio API key from https://app.cleanlab.ai/account?tab=General\n",
    "tlm = studio.TLM()"
   ]
  },
  {
   "cell_type": "code",
   "execution_count": 6,
   "id": "0a2f579d-f41d-45a6-976f-3ada0b171557",
   "metadata": {},
   "outputs": [
    {
     "data": {
      "text/plain": [
       "{'response': 'Perplexity should go down for a language model to have better performance. Perplexity is a measure of how well a language model predicts a given sequence of words. A lower perplexity indicates that the model is more confident and accurate in its predictions. Therefore, a language model with lower perplexity is considered to have better performance.',\n",
       " 'confidence_score': nan}"
      ]
     },
     "execution_count": 6,
     "metadata": {},
     "output_type": "execute_result"
    }
   ],
   "source": [
    "# Runs a base LLM (GPT-3.5 in this example)\n",
    "base_llm = studio.TLM(quality_preset='base')\n",
    "base_llm.prompt(\"Should perplexity go up or down for a language model to have better performance?\")"
   ]
  },
  {
   "cell_type": "code",
   "execution_count": 5,
   "id": "d740fd6e-35d2-4e63-a0ac-d555dd1592ba",
   "metadata": {},
   "outputs": [
    {
     "data": {
      "text/plain": [
       "{'response': 'Perplexity should go down for a language model to have better performance. Perplexity is a metric commonly used to evaluate the performance of language models. It measures how well a language model can predict the next word in a sentence or sequence of words. A lower perplexity value indicates that the model is more confident and accurate in predicting the next word. Therefore, decreasing perplexity is generally desired to improve the performance of a language model.',\n",
       " 'confidence_score': 0.939186011279776}"
      ]
     },
     "execution_count": 5,
     "metadata": {},
     "output_type": "execute_result"
    }
   ],
   "source": [
    "# Runs the Cleanlab TLM with confidence reliablity scores\n",
    "tlm = studio.TLM(quality_preset='best')\n",
    "tlm.prompt(\"Should perplexity go up or down for a language model to have better performance?\")"
   ]
  },
  {
   "cell_type": "code",
   "execution_count": 7,
   "id": "380da807-ad54-47d5-aa6a-b972009973c9",
   "metadata": {},
   "outputs": [
    {
     "data": {
      "text/plain": [
       "{'response': 'Perplexity should go down for a language model to have better performance. Perplexity is a measure of how well a language model predicts a given sequence of words. A lower perplexity indicates that the model is more confident and accurate in its predictions. Therefore, a language model with lower perplexity is considered to have better performance.',\n",
       " 'confidence_score': 0.9392575510655298}"
      ]
     },
     "execution_count": 7,
     "metadata": {},
     "output_type": "execute_result"
    }
   ],
   "source": [
    "# Runs a faster (slightly less accurate) version of Cleanlab TLM with confidence reliablity scores\n",
    "tlm = studio.TLM(quality_preset='low')\n",
    "tlm.prompt(\"Should perplexity go up or down for a language model to have better performance?\")"
   ]
  },
  {
   "cell_type": "code",
   "execution_count": 8,
   "id": "84230632-dd06-493b-9e5f-342ce593c052",
   "metadata": {},
   "outputs": [
    {
     "data": {
      "text/plain": [
       "{'response': 'I am not a lawyer, but I can provide some general information on this topic. The use of publicly available data, including data from the internet, for training machine learning models is a common practice. Generally, publicly available data is considered to be free for use by anyone, including AI companies, as long as they comply with applicable laws and regulations.\\n\\nHowever, it is important to note that the specific terms and conditions of data usage can vary depending on the source. Some websites or platforms may have specific terms of service that restrict the use of their data for certain purposes. If the New York Times or any other website explicitly prohibits the use of their content for training AI models, then AI companies may be in violation of those terms.\\n\\nIf the New York Times believes that an AI company has violated their terms of service or infringed upon their intellectual property rights, they may have the right to take legal action. Whether they would be successful in such a lawsuit would depend on various factors, including the specific terms of service, the nature of the data usage, and applicable laws.\\n\\nIt is always advisable for AI companies to ensure that they comply with the terms and conditions of data sources and respect intellectual property rights to avoid potential legal issues.',\n",
       " 'confidence_score': 0.9376392591837794}"
      ]
     },
     "execution_count": 8,
     "metadata": {},
     "output_type": "execute_result"
    }
   ],
   "source": [
    "tlm.prompt(\n",
    "    \"Given that machine learning models have trained on data from the internet,\"\n",
    "    \"and some small amount of that data includes New York times articles\"\n",
    "    \"is the New York times in their right to sue AI companies that train on public internet data?\"\n",
    ")"
   ]
  },
  {
   "cell_type": "code",
   "execution_count": 9,
   "id": "38c4f934-7675-414e-8f8f-64172d7d01a1",
   "metadata": {},
   "outputs": [
    {
     "data": {
      "text/plain": [
       "{'response': 'The French Revolution began on July 14, 1789, with the storming of the Bastille prison in Paris. This event is widely regarded as the start of the revolution.',\n",
       " 'confidence_score': 0.8320045982823503}"
      ]
     },
     "execution_count": 9,
     "metadata": {},
     "output_type": "execute_result"
    }
   ],
   "source": [
    "# Example from together AI hackathon demo\n",
    "tlm = studio.TLM(quality_preset='best')\n",
    "tlm.prompt(\"When did the French revolution start?\")  # Actual date according to Google: May 5, 1789"
   ]
  },
  {
   "cell_type": "code",
   "execution_count": 10,
   "id": "a692fddf-2318-4bcc-91a5-604aecba11ad",
   "metadata": {},
   "outputs": [
    {
     "data": {
      "text/plain": [
       "{'response': 'No, the French Revolution did not officially start on May 5, 1789. The revolution is commonly considered to have started on July 14, 1789, when the people of Paris stormed the Bastille prison, which was a symbolic act against the monarchy and the beginning of widespread popular uprising. May 5, 1789, however, was an important event in the pre-revolutionary period, as it marked the opening of the Estates-General, an assembly that played a significant role leading up to the revolution.',\n",
       " 'confidence_score': 0.6445548568854021}"
      ]
     },
     "execution_count": 10,
     "metadata": {},
     "output_type": "execute_result"
    }
   ],
   "source": [
    "tlm.prompt(\"Did the French revolution start on May 5, 1789?\")  # Correct answer according to Google: yes"
   ]
  },
  {
   "cell_type": "code",
   "execution_count": 11,
   "id": "8b0d4f02-d492-4ba5-9fee-0fee8e70f41c",
   "metadata": {},
   "outputs": [
    {
     "data": {
      "text/plain": [
       "{'response': \"I'm sorry, but as an AI, I don't have personal information about individuals unless shared with me in the course of our conversation. It's best to ask your girlfriend directly about her favorite flowers.\",\n",
       " 'confidence_score': 0.8046503750749281}"
      ]
     },
     "execution_count": 11,
     "metadata": {},
     "output_type": "execute_result"
    }
   ],
   "source": [
    "# Example from Savant AI during Hackathon demo\n",
    "tlm.prompt(\"What's my girlfriend's favorite flowers?\")"
   ]
  },
  {
   "cell_type": "code",
   "execution_count": 14,
   "id": "1f285a4a-594b-44d6-a95d-432b19f99b44",
   "metadata": {},
   "outputs": [
    {
     "data": {
      "text/plain": [
       "{'response': \"I'm sorry, but I couldn't find any specific information about the address of the NeoGenesis House in Hillsborough, CA. It is possible that there may not be a publicly available address or the establishment you are referring to could be located in a different area. It is recommended to contact NeoGenesis House directly for more accurate information.\",\n",
       " 'confidence_score': 0.6696681338330587}"
      ]
     },
     "execution_count": 14,
     "metadata": {},
     "output_type": "execute_result"
    }
   ],
   "source": [
    "tlm.prompt(\"What is the address of the NeoGenesis House in Hillsborough, CA?\")"
   ]
  },
  {
   "cell_type": "markdown",
   "id": "1fcbef76-f619-4398-af75-a2d5a7680fe3",
   "metadata": {},
   "source": [
    "# Some fun ones"
   ]
  },
  {
   "cell_type": "code",
   "execution_count": 18,
   "id": "cbedb7b6-8edd-4256-95a6-cbf8cf513be1",
   "metadata": {},
   "outputs": [
    {
     "data": {
      "text/plain": [
       "{'response': 'There are 19 words in my response to this prompt, including numbers and contractions.',\n",
       " 'confidence_score': 0.5531959826860577}"
      ]
     },
     "execution_count": 18,
     "metadata": {},
     "output_type": "execute_result"
    }
   ],
   "source": [
    "tlm.prompt(\"How many words are in your response to this prompt?\")"
   ]
  },
  {
   "cell_type": "code",
   "execution_count": 24,
   "id": "8c3e8615-fd9a-48aa-8b7c-fbe06ffced47",
   "metadata": {},
   "outputs": [
    {
     "data": {
      "text/plain": [
       "{'response': 'There are two Ns in the word \"enter\".', 'confidence_score': nan}"
      ]
     },
     "execution_count": 24,
     "metadata": {},
     "output_type": "execute_result"
    }
   ],
   "source": [
    "# Open-AI GPT-3.5 answer\n",
    "base_llm.prompt(\"How many Ns are there in the word enter?\")"
   ]
  },
  {
   "cell_type": "code",
   "execution_count": 22,
   "id": "894dc621-f5dc-4297-9c5d-b5534cfe1ef4",
   "metadata": {},
   "outputs": [
    {
     "data": {
      "text/plain": [
       "{'response': 'There is only 1 \"N\" in the word \"enter\".',\n",
       " 'confidence_score': 0.4701794459993602}"
      ]
     },
     "execution_count": 22,
     "metadata": {},
     "output_type": "execute_result"
    }
   ],
   "source": [
    "# Cleanlab TLM answer\n",
    "tlm.prompt(\"How many Ns are there in the word enter?\")"
   ]
  },
  {
   "cell_type": "code",
   "execution_count": 25,
   "id": "c4866872-ac29-4788-96aa-20f08bb7a362",
   "metadata": {},
   "outputs": [
    {
     "data": {
      "text/plain": [
       "{'response': 'It depends on the specific context and situation. Generally, it only takes one engineer to screw in a lightbulb. However, if it is a complex engineering task involving special equipment or specific technical knowledge, it may require a team of engineers working together to install the lightbulb safely and efficiently.',\n",
       " 'confidence_score': 0.7372778478251901}"
      ]
     },
     "execution_count": 25,
     "metadata": {},
     "output_type": "execute_result"
    }
   ],
   "source": [
    "tlm.prompt(\"How many engineers does it take to screw a lightbulb?\")"
   ]
  },
  {
   "cell_type": "code",
   "execution_count": 27,
   "id": "a9605e13-f8a6-49a9-9905-d8049a59b8e5",
   "metadata": {},
   "outputs": [
    {
     "data": {
      "text/plain": [
       "{'response': 'The number of people on a football team may vary depending on the specific league, competition, or level of play. In general, a typical professional football team has 11 players on the field at a time. However, a team is usually comprised of more than just 11 players in order to have substitutes and cover various positions. A professional team may have around 25-30 players on their roster, including additional backup players, goalkeepers, and substitutes.',\n",
       " 'confidence_score': 0.6657329116856331}"
      ]
     },
     "execution_count": 27,
     "metadata": {},
     "output_type": "execute_result"
    }
   ],
   "source": [
    "# Tricky question because it doesn't say whether this means on the field in-play or on the team in general.\n",
    "tlm.prompt(\"How many people are on a football team?\")"
   ]
  },
  {
   "cell_type": "code",
   "execution_count": 28,
   "id": "fdbdf6ba-9775-46f4-88c7-c8d0786b7257",
   "metadata": {},
   "outputs": [
    {
     "data": {
      "text/plain": [
       "{'response': 'There is no information available about Cleanlab, so it is unclear when it was founded. It could be a relatively new company or a less well-known organization.',\n",
       " 'confidence_score': 0.5891150110988587}"
      ]
     },
     "execution_count": 28,
     "metadata": {},
     "output_type": "execute_result"
    }
   ],
   "source": [
    "# Cleanlab (the company was not yet founded by the time GPT-3.5 was trained)\n",
    "tlm.prompt(\"When was Cleanlab founded?\")"
   ]
  },
  {
   "cell_type": "code",
   "execution_count": 30,
   "id": "6cec64ed-204c-4de1-93c7-e57a9b821340",
   "metadata": {},
   "outputs": [
    {
     "data": {
      "text/plain": [
       "{'response': 'The cleanlab open-source package, introduced in 2019, solved the problem of learning with noisy labels in machine learning models. It provided tools and techniques to detect and correct label errors or mislabeled instances in a given dataset. This is important because noisy labels can significantly affect the performance and accuracy of machine learning algorithms.',\n",
       " 'confidence_score': 0.9359887873275701}"
      ]
     },
     "execution_count": 30,
     "metadata": {},
     "output_type": "execute_result"
    }
   ],
   "source": [
    "tlm.prompt(\"What did the cleanlab open-source package solve back in 2019?\")"
   ]
  }
 ],
 "metadata": {
  "kernelspec": {
   "display_name": "Python 3 (ipykernel)",
   "language": "python",
   "name": "python3"
  },
  "language_info": {
   "codemirror_mode": {
    "name": "ipython",
    "version": 3
   },
   "file_extension": ".py",
   "mimetype": "text/x-python",
   "name": "python",
   "nbconvert_exporter": "python",
   "pygments_lexer": "ipython3",
   "version": "3.8.0"
  }
 },
 "nbformat": 4,
 "nbformat_minor": 5
}
