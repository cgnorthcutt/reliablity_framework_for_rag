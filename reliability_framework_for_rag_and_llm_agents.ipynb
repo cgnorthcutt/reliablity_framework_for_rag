{
 "cells": [
  {
   "cell_type": "code",
   "execution_count": 34,
   "id": "21b6939d-06f5-4228-8646-d560d907911f",
   "metadata": {},
   "outputs": [],
   "source": [
    "from cleanlab_studio import Studio\n",
    "import pandas as pd\n",
    "from tqdm import tqdm\n",
    "from matplotlib import pyplot as plt"
   ]
  },
  {
   "cell_type": "code",
   "execution_count": 3,
   "id": "5519bf1b-38b2-4a4a-8136-1910a8f254c5",
   "metadata": {},
   "outputs": [],
   "source": [
    "with open('api.txt') as file: \n",
    "    key = file.read()\n",
    "studio = Studio(key)  # Cleanlab Studio API key from https://app.cleanlab.ai/account?tab=General\n",
    "tlm = studio.TLM()"
   ]
  },
  {
   "cell_type": "markdown",
   "id": "e12409ce-26e2-489b-bde8-8058cc8055f4",
   "metadata": {},
   "source": [
    "## Play with the data."
   ]
  },
  {
   "cell_type": "code",
   "execution_count": 18,
   "id": "9a457827-06b0-444c-b836-d58f75e278dd",
   "metadata": {},
   "outputs": [
    {
     "name": "stdout",
     "output_type": "stream",
     "text": [
      "Example question:\n",
      "\n",
      "Consider the country of Afghanistan. Does the country permit a parent to confer his or her citizenship on a child born in the territory of the country of citizenship and, if so, under which conditions?\n",
      "\n",
      "Example answer:\n",
      "\n",
      "Yes\n",
      "\n"
     ]
    },
    {
     "data": {
      "text/html": [
       "<div>\n",
       "<style scoped>\n",
       "    .dataframe tbody tr th:only-of-type {\n",
       "        vertical-align: middle;\n",
       "    }\n",
       "\n",
       "    .dataframe tbody tr th {\n",
       "        vertical-align: top;\n",
       "    }\n",
       "\n",
       "    .dataframe thead th {\n",
       "        text-align: right;\n",
       "    }\n",
       "</style>\n",
       "<table border=\"1\" class=\"dataframe\">\n",
       "  <thead>\n",
       "    <tr style=\"text-align: right;\">\n",
       "      <th></th>\n",
       "      <th>index</th>\n",
       "      <th>question</th>\n",
       "      <th>answer</th>\n",
       "    </tr>\n",
       "  </thead>\n",
       "  <tbody>\n",
       "    <tr>\n",
       "      <th>0</th>\n",
       "      <td>0</td>\n",
       "      <td>Consider the country of Afghanistan. Does the ...</td>\n",
       "      <td>Yes</td>\n",
       "    </tr>\n",
       "    <tr>\n",
       "      <th>1</th>\n",
       "      <td>1</td>\n",
       "      <td>Consider the country of Bolivia. Does the coun...</td>\n",
       "      <td>Yes</td>\n",
       "    </tr>\n",
       "    <tr>\n",
       "      <th>2</th>\n",
       "      <td>2</td>\n",
       "      <td>Consider the country of Bhutan. Does the count...</td>\n",
       "      <td>No</td>\n",
       "    </tr>\n",
       "    <tr>\n",
       "      <th>3</th>\n",
       "      <td>3</td>\n",
       "      <td>Consider the country of Zimbabwe. Does the cou...</td>\n",
       "      <td>No</td>\n",
       "    </tr>\n",
       "  </tbody>\n",
       "</table>\n",
       "</div>"
      ],
      "text/plain": [
       "   index                                           question answer\n",
       "0      0  Consider the country of Afghanistan. Does the ...    Yes\n",
       "1      1  Consider the country of Bolivia. Does the coun...    Yes\n",
       "2      2  Consider the country of Bhutan. Does the count...     No\n",
       "3      3  Consider the country of Zimbabwe. Does the cou...     No"
      ]
     },
     "execution_count": 18,
     "metadata": {},
     "output_type": "execute_result"
    }
   ],
   "source": [
    "data = pd.read_csv('data/international_citizenship_questions/train.tsv', sep='\\t')\n",
    "print('Example question:\\n\\n' + data['question'][0], end='\\n\\n')\n",
    "\n",
    "print('Example answer:\\n\\n' + data['answer'][0], end='\\n\\n')\n",
    "data"
   ]
  },
  {
   "cell_type": "code",
   "execution_count": 19,
   "id": "bf276c90-362f-45e5-9c45-35012e35912e",
   "metadata": {},
   "outputs": [],
   "source": [
    "q = data['question'][0]"
   ]
  },
  {
   "cell_type": "code",
   "execution_count": 20,
   "id": "b35de86f-fb0a-440e-a603-4bff9c949a52",
   "metadata": {},
   "outputs": [],
   "source": [
    "prompt_context = 'Please answer using only the two words, \"Yes\" or \"No\" with no punctuation.'"
   ]
  },
  {
   "cell_type": "code",
   "execution_count": 21,
   "id": "fcca53d7-8c00-4b08-8709-cf7f89ecc601",
   "metadata": {},
   "outputs": [],
   "source": [
    "output = tlm.prompt(q + \" \" + prompt_context)"
   ]
  },
  {
   "cell_type": "code",
   "execution_count": 22,
   "id": "bd9cb864-57a0-4e3e-a624-982b379cf75a",
   "metadata": {},
   "outputs": [
    {
     "name": "stdout",
     "output_type": "stream",
     "text": [
      "{'response': 'Yes', 'confidence_score': 0.6513994456537767}\n"
     ]
    }
   ],
   "source": [
    "print(output)"
   ]
  },
  {
   "cell_type": "markdown",
   "id": "d5f76823-c812-41f2-976a-6700799cf11d",
   "metadata": {},
   "source": [
    "## Load responses\n",
    "See the `run-tlm-on-500dataset.ipynb` notebook for the for-loop to get TLM responses on the first 350 examples."
   ]
  },
  {
   "cell_type": "code",
   "execution_count": 60,
   "id": "a41bfa6f-9b81-4247-a29f-ccc3610b41ed",
   "metadata": {},
   "outputs": [],
   "source": [
    "# Read in TLM results\n",
    "r = pd.read_csv('tlm_results.csv')\n",
    "r.columns = ['index', 'question', 'answer', 'tlm_response', 'tlm_confidence_score']\n",
    "# Read in base results\n",
    "br = pd.read_csv('base_results.csv')[:len(r)]\n",
    "br.columns = ['index', 'question', 'answer', 'base_response', 'base_confidence_score']"
   ]
  },
  {
   "cell_type": "markdown",
   "id": "840d73f8-2b6a-4030-bd92-3c26bf6e3b6b",
   "metadata": {},
   "source": [
    "## Combine base responses and tlm responses"
   ]
  },
  {
   "cell_type": "code",
   "execution_count": 123,
   "id": "70b5b577-38c6-477a-b269-6d57add362df",
   "metadata": {},
   "outputs": [],
   "source": [
    "r['base_response'] = br['base_response']\n",
    "r = r[['index', 'question', 'answer', 'base_response', 'tlm_response', 'tlm_confidence_score']]"
   ]
  },
  {
   "cell_type": "code",
   "execution_count": 125,
   "id": "1601ff7e-ba79-4d59-ae51-5f6044692ea3",
   "metadata": {},
   "outputs": [
    {
     "data": {
      "text/html": [
       "<div>\n",
       "<style scoped>\n",
       "    .dataframe tbody tr th:only-of-type {\n",
       "        vertical-align: middle;\n",
       "    }\n",
       "\n",
       "    .dataframe tbody tr th {\n",
       "        vertical-align: top;\n",
       "    }\n",
       "\n",
       "    .dataframe thead th {\n",
       "        text-align: right;\n",
       "    }\n",
       "</style>\n",
       "<table border=\"1\" class=\"dataframe\">\n",
       "  <thead>\n",
       "    <tr style=\"text-align: right;\">\n",
       "      <th></th>\n",
       "      <th>index</th>\n",
       "      <th>question</th>\n",
       "      <th>answer</th>\n",
       "      <th>base_response</th>\n",
       "      <th>tlm_response</th>\n",
       "      <th>tlm_confidence_score</th>\n",
       "    </tr>\n",
       "  </thead>\n",
       "  <tbody>\n",
       "    <tr>\n",
       "      <th>11</th>\n",
       "      <td>4901</td>\n",
       "      <td>Consider the country of Rwanda. Does the count...</td>\n",
       "      <td>Yes</td>\n",
       "      <td>Yes</td>\n",
       "      <td>No</td>\n",
       "      <td>0.542324</td>\n",
       "    </tr>\n",
       "    <tr>\n",
       "      <th>187</th>\n",
       "      <td>3566</td>\n",
       "      <td>Consider the country of Latvia. Does the count...</td>\n",
       "      <td>No</td>\n",
       "      <td>No</td>\n",
       "      <td>Yes</td>\n",
       "      <td>0.644474</td>\n",
       "    </tr>\n",
       "    <tr>\n",
       "      <th>295</th>\n",
       "      <td>5432</td>\n",
       "      <td>Consider the country of Sweden. Does the count...</td>\n",
       "      <td>Yes</td>\n",
       "      <td>Yes</td>\n",
       "      <td>No</td>\n",
       "      <td>0.216132</td>\n",
       "    </tr>\n",
       "  </tbody>\n",
       "</table>\n",
       "</div>"
      ],
      "text/plain": [
       "     index                                           question answer  \\\n",
       "11    4901  Consider the country of Rwanda. Does the count...    Yes   \n",
       "187   3566  Consider the country of Latvia. Does the count...     No   \n",
       "295   5432  Consider the country of Sweden. Does the count...    Yes   \n",
       "\n",
       "    base_response tlm_response  tlm_confidence_score  \n",
       "11            Yes           No              0.542324  \n",
       "187            No          Yes              0.644474  \n",
       "295           Yes           No              0.216132  "
      ]
     },
     "execution_count": 125,
     "metadata": {},
     "output_type": "execute_result"
    }
   ],
   "source": [
    "# See where TLM differs from base model (Chat GPT3.5)\n",
    "r[r['tlm_response'] != r['base_response']]"
   ]
  },
  {
   "cell_type": "code",
   "execution_count": 127,
   "id": "35275406-a7e5-462f-b06d-35794891c7c5",
   "metadata": {},
   "outputs": [],
   "source": [
    "r.to_csv('tlm_and_base_results.csv', index=False)"
   ]
  },
  {
   "cell_type": "markdown",
   "id": "f85eaf8c-2f84-4d9f-8929-50b8d2aff384",
   "metadata": {},
   "source": [
    "## Analysis\n",
    "\n",
    "Note the results here are not based on the `best` perfomrming TLM, but on the `low` performing TLM which allowed us to get results faster for the hackathon. You will get more accurate results if you use `quality_preset = \"best\"`."
   ]
  },
  {
   "cell_type": "code",
   "execution_count": 128,
   "id": "1e259351-c7ba-4238-8da5-a1b2b45a7db7",
   "metadata": {},
   "outputs": [],
   "source": [
    "r = pd.read_csv('tlm_and_base_results.csv')"
   ]
  },
  {
   "cell_type": "code",
   "execution_count": 174,
   "id": "d0ce1504-d9b4-4979-bfb2-d47bd709c059",
   "metadata": {},
   "outputs": [
    {
     "name": "stdout",
     "output_type": "stream",
     "text": [
      "Base Acc: ~65%\n",
      "\n",
      "TLM Acc: 65.5%\n",
      "TLM Acc (Confidence > 0.3): 66.2%\n",
      "TLM Acc (Confidence > 0.5): 69.9%\n",
      "TLM Acc (Confidence > 0.8): 74.0%\n",
      "\n",
      "For comparison:\n",
      "Base (Open-AI GPT-3.5) Acc (TLM Confidence < 0.5): 55.1%\n"
     ]
    }
   ],
   "source": [
    "print(f\"Base Acc: ~65%\")\n",
    "print(f\"\\nTLM Acc: {sum(r['answer'] == r['tlm_response']) / len(r):.1%}\")\n",
    "subr = r[r['tlm_confidence_score'] > 0.3]\n",
    "print(f\"TLM Acc (Confidence > 0.3): {sum(subr['answer'] == subr['tlm_response']) / len(subr):.1%}\")\n",
    "subr = r[r['tlm_confidence_score'] > 0.5]\n",
    "print(f\"TLM Acc (Confidence > 0.5): {sum(subr['answer'] == subr['tlm_response']) / len(subr):.1%}\")\n",
    "subr = r[r['tlm_confidence_score'] > 0.7]\n",
    "print(f\"TLM Acc (Confidence > 0.8): {sum(subr['answer'] == subr['tlm_response']) / len(subr):.1%}\")\n",
    "\n",
    "print('\\nFor comparison:')\n",
    "\n",
    "subr = r[r['tlm_confidence_score'] < 0.5]\n",
    "print(f\"Base (Open-AI GPT-3.5) Acc (TLM Confidence < 0.5): {sum(subr['answer'] == subr['base_response']) / len(subr):.1%}\")"
   ]
  },
  {
   "cell_type": "code",
   "execution_count": 164,
   "id": "69b9c627-77bf-4439-a67c-9bfa12759185",
   "metadata": {},
   "outputs": [
    {
     "name": "stdout",
     "output_type": "stream",
     "text": [
      "Base Acc (Confidence < 0.3): 62.5%\n",
      "Base Acc (Confidence < 0.3): 55.1%\n",
      "Base Acc (Confidence < 0.3): 61.6%\n"
     ]
    }
   ],
   "source": [
    "subr = r[r['tlm_confidence_score'] < 0.3]\n",
    "print(f\"Base Acc (Confidence < 0.3): {sum(subr['answer'] == subr['base_response']) / len(subr):.1%}\")\n",
    "subr = r[r['tlm_confidence_score'] < 0.7]\n",
    "print(f\"Base Acc (Confidence < 0.3): {sum(subr['answer'] == subr['base_response']) / len(subr):.1%}\")\n"
   ]
  },
  {
   "cell_type": "code",
   "execution_count": 136,
   "id": "ba1dfae3-6fc9-4bcb-b011-3c7bfd7a2213",
   "metadata": {},
   "outputs": [
    {
     "data": {
      "text/plain": [
       "Text(0.5, 1.0, 'TLM Confidence scores when LLM disagrees with true answer')"
      ]
     },
     "execution_count": 136,
     "metadata": {},
     "output_type": "execute_result"
    },
    {
     "data": {
      "image/png": "[encoded data removed]",
      "text/plain": [
       "<Figure size 640x480 with 1 Axes>"
      ]
     },
     "metadata": {},
     "output_type": "display_data"
    }
   ],
   "source": [
    "plt.hist(r[r['answer'] != r['tlm_response']]['tlm_confidence_score'])\n",
    "plt.title('TLM Confidence scores when LLM disagrees with true answer')"
   ]
  },
  {
   "cell_type": "code",
   "execution_count": 137,
   "id": "e6e2581c-2b95-444c-9b0a-21f69718122f",
   "metadata": {},
   "outputs": [
    {
     "data": {
      "text/plain": [
       "Text(0.5, 1.0, 'TLM Confidence scores when LLM disagrees with true answer')"
      ]
     },
     "execution_count": 137,
     "metadata": {},
     "output_type": "execute_result"
    },
    {
     "data": {
      "image/png": "[encoded data removed]",
      "text/plain": [
       "<Figure size 640x480 with 1 Axes>"
      ]
     },
     "metadata": {},
     "output_type": "display_data"
    }
   ],
   "source": [
    "plt.hist(r[r['answer'] == r['tlm_response']]['tlm_confidence_score'])\n",
    "plt.title('TLM Confidence scores when LLM disagrees with true answer')"
   ]
  },
  {
   "cell_type": "code",
   "execution_count": null,
   "id": "ddbdece5-0c41-4c9c-8525-d30e98d8e889",
   "metadata": {},
   "outputs": [],
   "source": []
  },
  {
   "cell_type": "markdown",
   "id": "a89e3a19-2211-4cf9-8819-f0eccc3e3e05",
   "metadata": {},
   "source": [
    "## Asserts"
   ]
  },
  {
   "cell_type": "code",
   "execution_count": 113,
   "id": "0a8d9c5c-6f85-46f3-b91f-afa394ab959d",
   "metadata": {},
   "outputs": [],
   "source": [
    "# Make sure all answers are properly formatted.\n",
    "assert(br['base_response'].isin(['No', 'Yes']).sum() == len(br))\n",
    "assert(r['tlm_response'].isin(['No', 'Yes']).sum() == len(r))"
   ]
  },
  {
   "cell_type": "code",
   "execution_count": null,
   "id": "89a3d213-00cb-4d67-97a6-3267ecb0a974",
   "metadata": {},
   "outputs": [],
   "source": []
  }
 ],
 "metadata": {
  "kernelspec": {
   "display_name": "Python 3 (ipykernel)",
   "language": "python",
   "name": "python3"
  },
  "language_info": {
   "codemirror_mode": {
    "name": "ipython",
    "version": 3
   },
   "file_extension": ".py",
   "mimetype": "text/x-python",
   "name": "python",
   "nbconvert_exporter": "python",
   "pygments_lexer": "ipython3",
   "version": "3.8.0"
  }
 },
 "nbformat": 4,
 "nbformat_minor": 5
}
